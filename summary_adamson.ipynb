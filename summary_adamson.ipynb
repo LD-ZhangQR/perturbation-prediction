{
 "cells": [
  {
   "cell_type": "markdown",
   "metadata": {},
   "source": [
    "# Predictive Performance Evaluation of Gears\n",
    "This section is based on the methodology of the Gears paper. It evaluates the predictive performance of Gears on the top 5000 highly variable genes (HVGs) and top 20 genes across five default datasets: Norman, Adamson, Dixit, and others, using the exact same methods as in the original study."
   ]
  },
  {
   "cell_type": "markdown",
   "metadata": {},
   "source": [
    "### Importing necessary libraries"
   ]
  },
  {
   "cell_type": "code",
   "execution_count": 1,
   "metadata": {},
   "outputs": [],
   "source": [
    "from gears import PertData, GEARS\n",
    "import scanpy as sc\n",
    "import pandas as pd\n",
    "from sklearn.metrics import mean_absolute_error as mae\n",
    "from sklearn.metrics import mean_squared_error as mse\n",
    "import numpy as np\n",
    "import matplotlib.pyplot as plt\n",
    "import pickle\n",
    "import os\n",
    "import requests\n",
    "import scipy as sp"
   ]
  },
  {
   "cell_type": "markdown",
   "metadata": {},
   "source": [
    "### Some necessary custom functions for calculating MSE (Mean Squared Error) and plotting"
   ]
  },
  {
   "cell_type": "markdown",
   "metadata": {},
   "source": [
    "The `cal_l2_error` function calculates the L2 norm error between predicted and actual gene expression values under different perturbations. Initially, it creates dataframes for predicted and actual values, labeling each entry with its perturbation type. The function then calculates the average gene expression for each type of perturbation, subtracting the control group's mean to isolate the effect of the perturbations. Subsequently, it computes the L2 norm of the error between the predicted and actual expressions and sorts these errors."
   ]
  },
  {
   "cell_type": "markdown",
   "metadata": {},
   "source": [
    "**After grouping based on perturbation**\n",
    "1. **Average Perturbation Effect:**\n",
    "\n",
    "    For each perturbation group \\( p \\):\n",
    "$$\n",
    "\\text{Average Effect}_{(\\text{pred}, HVG), p} = \\frac{1}{n_p} \\sum_{i=1}^{n_p} y_{(\\text{pred}, HVG), i}\n",
    "$$\n",
    "$$\n",
    "\\text{Average Effect}_{(\\text{truth}, HVG), p} = \\frac{1}{n_p} \\sum_{i=1}^{n_p} y_{(\\text{truth}, HVG), i}\n",
    "$$\n",
    "\n",
    "- $Y_{(\\text{pred, HVG}),i}$: The predicted highly variable gene expression value for the $i$-th sample.\n",
    "\n",
    "- $Y_{(\\text{truth, HVG}),i}$: The true highly variable gene expression value for the $i$-th sample.\n",
    "\n",
    "- $n_p$: The total number of samples in perturbation gropu $p$.\n",
    "\n",
    "2. **Perturbation Effect:**\n",
    "$$\n",
    "\\text{Perturbation Effect}_{(\\text{pred}, HVG), p} = \\text{Average Effect}_{(\\text{pred}, HVG), p} - \\text{control\\_mean}\n",
    "$$\n",
    "$$\n",
    "\\text{Perturbation Effect}_{(\\text{truth}, HVG), p} = \\text{Average Effect}_{(\\text{truth}, HVG), p} - \\text{control\\_mean}\n",
    "$$\n",
    "\n",
    "- $\\text{control\\_mean}$: The average highly variable gene expression value for the control group.\n",
    "\n",
    "3. **L2 Norm Error:**\n",
    "$$\n",
    "\\text{L2 Error}_p = \\sqrt{\\sum_{j=1}^{n_{\\text{genes}}} \\left( \\text{Perturbation Effect}_{(\\text{pred}, HVG), p, j} - \\text{Perturbation Effect}_{(\\text{truth}, HVG), p, j} \\right)^2}\n",
    "$$\n",
    "\n",
    "- $n_{\\text{genes}}$: The number of highly variable genes.\n",
    "\n",
    "- $j$: The index of a gene.\n",
    "\n",
    "- $p$: For each perturbation group."
   ]
  },
  {
   "cell_type": "code",
   "execution_count": 2,
   "metadata": {},
   "outputs": [],
   "source": [
    "def cal_l2_error(y_pred, y_truth, perturbations, control_mean):\n",
    "    \"\"\"\n",
    "    Calculate the L2 norm error for gene expression predictions compared to the ground truth.\n",
    "\n",
    "    Parameters:\n",
    "    - y_pred: Predicted gene expression values, shape (n_samples, n_genes)\n",
    "    - y_truth: True gene expression values, shape (n_samples, n_genes)\n",
    "    - perturbations: List of perturbations, length n_samples\n",
    "    - control_mean: Mean expression of the control group, shape (1, n_genes)\n",
    "\n",
    "    Returns:\n",
    "    - A Pandas Series containing the sorted L2 norm error for each perturbation group, indexed by the perturbation labels. The values are sorted in descending order.\n",
    "    \"\"\"\n",
    "\n",
    "    # Create a dataframe to associate perturbations with y_pred and y_truth\n",
    "    df_pred = pd.DataFrame(y_pred)\n",
    "    df_pred['perturbation'] = perturbations\n",
    "\n",
    "    df_truth = pd.DataFrame(y_truth)\n",
    "    df_truth['perturbation'] = perturbations\n",
    "\n",
    "    # Function to compute the average gene expression for each perturbation group\n",
    "    def calculate_average_effect(df):\n",
    "        avg_effect = df.groupby('perturbation').mean()\n",
    "        return avg_effect\n",
    "\n",
    "    # Compute average effect for each perturbation\n",
    "    avg_pred = calculate_average_effect(df_pred)\n",
    "    avg_truth = calculate_average_effect(df_truth)\n",
    "\n",
    "    # Subtract control group effect to get the perturbation effect\n",
    "    perturbation_effect_pred = avg_pred.subtract(control_mean, axis=1)\n",
    "    perturbation_effect_truth = avg_truth.subtract(control_mean, axis=1)\n",
    "\n",
    "    # Calculate L2 norm of error\n",
    "    l2_norm_error = np.linalg.norm(perturbation_effect_pred - perturbation_effect_truth, axis=1)\n",
    "\n",
    "    # Sort L2 norm error by descending order and reindex the barplot data\n",
    "    sorted_l2_norm_error = pd.Series(l2_norm_error, index=perturbation_effect_pred.index).sort_values(ascending=False)\n",
    "\n",
    "    return sorted_l2_norm_error"
   ]
  },
  {
   "cell_type": "markdown",
   "metadata": {},
   "source": [
    "The `cal_l2_error_top20` function calculates the L2 error for each perturbation by comparing the average predicted and true gene expression values, specifically focusing on the top 20 dynamically changing genes per cell. This function is an adaptation of `cal_l2_error`, designed to handle scenarios where the control group expressions are provided for each sample and need to be averaged per perturbation group.(Top 20 genes are different for each perturbed gene) The function first calculates the average gene expression for each perturbation group in the predicted, true, and control datasets. Then, it computes the perturbation effects by subtracting the averaged control expressions from the averaged predicted and true gene expressions for each perturbation group. Finally, it calculates the L2 norm of the differences between the perturbation effects of the predicted and true expressions for each perturbation group. The results are sorted in descending order based on the L2 errors."
   ]
  },
  {
   "cell_type": "markdown",
   "metadata": {},
   "source": [
    "**After grouping based on perturbation**\n",
    "\n",
    "1. **Average Gene Expression:**\n",
    "\n",
    "    For each perturbation group \\( p \\):\n",
    "\n",
    "$$\n",
    "\\text{Average Predicted Expression}_{p} = \\frac{1}{n_p} \\sum_{i=1}^{n_p} y_{\\text{pred}, i}\n",
    "$$\n",
    "\n",
    "$$\n",
    "\\text{Average True Expression}_{p} = \\frac{1}{n_p} \\sum_{i=1}^{n_p} y_{\\text{truth}, i}\n",
    "$$\n",
    "\n",
    "$$\n",
    "\\text{Average Control Expression}_{p} = \\frac{1}{n_p} \\sum_{i=1}^{n_p} y_{\\text{control}, i}\n",
    "$$\n",
    "\n",
    "- $y_{\\text{pred}, i}$: Predicted gene expression values for the $i$-th sample.\n",
    "- $y_{\\text{truth}, i}$: True gene expression values for the $i$-th sample.\n",
    "- $y_{\\text{control}, i}$: Control gene expression values for the $i$-th sample.\n",
    "- $n_p$: Number of samples in perturbation group $p$.\n",
    "\n",
    "2. **Perturbation Effect:**\n",
    "\n",
    "$$\n",
    "\\text{Perturbation Effect}_{\\text{pred}, p} = \\text{Average Predicted Expression}_{p} - \\text{Average Control Expression}_{p}\n",
    "$$\n",
    "\n",
    "$$\n",
    "\\text{Perturbation Effect}_{\\text{truth}, p} = \\text{Average True Expression}_{p} - \\text{Average Control Expression}_{p}\n",
    "$$\n",
    "\n",
    "3. **L2 Norm Error:**\n",
    "\n",
    "$$\n",
    "\\text{L2 Error}_p = \\sqrt{ \\sum_{j=1}^{n_{\\text{genes}}} \\left( \\text{Perturbation Effect}_{\\text{pred}, p, j} - \\text{Perturbation Effect}_{\\text{truth}, p, j} \\right)^2 }\n",
    "$$\n",
    "\n",
    "- $n_{\\text{genes}}$: Number of genes (e.g., top 20 expressed genes).\n",
    "- $j$: Index of a gene.\n",
    "- $p$: Each perturbation group."
   ]
  },
  {
   "cell_type": "code",
   "execution_count": 3,
   "metadata": {},
   "outputs": [],
   "source": [
    "def cal_l2_error_top20(y_pred, y_truth, perturbations, expression_top20):\n",
    "    \"\"\"\n",
    "    Calculate the average L2 error for each perturbation, taking into account the top 20 expressed genes.\n",
    "\n",
    "    Parameters:\n",
    "    - y_pred: Predicted gene expression values, shape (n_samples, n_genes)\n",
    "    - y_truth: True gene expression values, shape (n_samples, n_genes)\n",
    "    - perturbations: List of perturbations, length n_samples\n",
    "    - expression_top20: Expression values of the top 20 genes for the control group, shape (n_samples, n_genes)\n",
    "\n",
    "    Returns:\n",
    "    - sorted_l2_norm_error: Average L2 errors sorted in descending order, indexed by perturbation name\n",
    "    \"\"\"\n",
    "\n",
    "    # Create a dataframe to associate perturbations with y_pred, y_truth, and expression_top20\n",
    "    df_pred = pd.DataFrame(y_pred)\n",
    "    df_pred['perturbation'] = perturbations\n",
    "\n",
    "    df_truth = pd.DataFrame(y_truth)\n",
    "    df_truth['perturbation'] = perturbations\n",
    "\n",
    "    df_control = pd.DataFrame(expression_top20)\n",
    "    df_control['perturbation'] = perturbations\n",
    "\n",
    "    # Function to compute the average gene expression for each perturbation group\n",
    "    def calculate_average_effect(df):\n",
    "        avg_effect = df.groupby('perturbation').mean()\n",
    "        return avg_effect\n",
    "\n",
    "    # Compute average effect for each perturbation\n",
    "    avg_pred = calculate_average_effect(df_pred)\n",
    "    avg_truth = calculate_average_effect(df_truth)\n",
    "    avg_control = calculate_average_effect(df_control)\n",
    "\n",
    "    # Subtract control group effect to get the perturbation effect\n",
    "    perturbation_effect_pred = avg_pred.subtract(avg_control, axis=1)\n",
    "    perturbation_effect_truth = avg_truth.subtract(avg_control, axis=1)\n",
    "\n",
    "    # Calculate L2 norm of error\n",
    "    l2_norm_error = np.linalg.norm(perturbation_effect_pred - perturbation_effect_truth, axis=1)\n",
    "\n",
    "    # Sort L2 norm error by descending order and reindex\n",
    "    sorted_l2_norm_error = pd.Series(l2_norm_error, index=perturbation_effect_pred.index).sort_values(ascending=False)\n",
    "\n",
    "    return sorted_l2_norm_error"
   ]
  },
  {
   "cell_type": "markdown",
   "metadata": {},
   "source": [
    "The `plot_outcome` function visualizes the L2 norm errors from multiple methods using both bar plots and box plots. In the first subplot, it creates a bar plot where errors for each method are displayed side by side. In the second subplot, it generates a box plot to show the distribution of L2 norm errors for each method, providing insights into variance and outliers."
   ]
  },
  {
   "cell_type": "code",
   "execution_count": 4,
   "metadata": {},
   "outputs": [],
   "source": [
    "def plot_outcome(l2_norm_errors):\n",
    "\n",
    "    # Create barplot and boxplot\n",
    "    plt.figure(figsize=(12, 6))\n",
    "\n",
    "    # Barplot for L2 norm of error\n",
    "    plt.subplot(1, 2, 1)\n",
    "    # for method_name, errors in l2_norm_errors.items():\n",
    "    #     plt.bar(errors.index, errors)\n",
    "    # plt.title('L2 Norm of Error for Each Perturbation')\n",
    "    # plt.xticks(rotation=90)\n",
    "\n",
    "    # Determine the x-axis positions\n",
    "    x = np.arange(len(next(iter(l2_norm_errors.values())).index))  \n",
    "    bar_width = 0.2  # Set the width of each bar\n",
    "    offset = 0  # Initial offset value\n",
    "\n",
    "    # Assign an offset for each method's bars to prevent overlap\n",
    "    for i, (method_name, errors) in enumerate(l2_norm_errors.items()):\n",
    "        plt.bar(x + offset, errors, width=bar_width, label=method_name)\n",
    "        offset += bar_width  # Increment the offset for the next method's bars\n",
    "\n",
    "    # Set title and labels\n",
    "    plt.title('L2 Norm of Error for Each Perturbation')\n",
    "    plt.xticks(x + bar_width * (len(l2_norm_errors) - 1) / 2, next(iter(l2_norm_errors.values())).index, rotation=90)\n",
    "    plt.legend()\n",
    "    plt.tight_layout()\n",
    "\n",
    "    # Boxplot for L2 norm of error\n",
    "    plt.subplot(1, 2, 2)\n",
    "    boxplot_data = [l2_norm_errors[method_name] for method_name in l2_norm_errors.keys()]\n",
    "    plt.boxplot(boxplot_data, labels=l2_norm_errors.keys())\n",
    "    plt.title('Boxplot of L2 Norm of Error')\n",
    "\n",
    "    plt.tight_layout()\n",
    "    plt.show()"
   ]
  },
  {
   "cell_type": "markdown",
   "metadata": {},
   "source": [
    "The `convert_predictions_to_dataframe` function transforms a list of predictions, which can be NumPy arrays or dictionaries, into a pandas DataFrame. It iterates through each element in the list, extracts data based on the type of element, and appends it to a new list. This list is then used to create a DataFrame, effectively structuring the prediction results for further analysis."
   ]
  },
  {
   "cell_type": "code",
   "execution_count": 5,
   "metadata": {},
   "outputs": [],
   "source": [
    "def convert_predictions_to_dataframe(predictions):\n",
    "    # Create an empty list to store data for DataFrame\n",
    "    data = []\n",
    "\n",
    "    # Iterate over each NumPy array in the list\n",
    "    for pred in predictions:\n",
    "        if isinstance(pred, dict):\n",
    "            # If pred is a dictionary, extract values from the dict\n",
    "            for values in pred.values():\n",
    "                data.append(values)\n",
    "        elif isinstance(pred, np.ndarray):\n",
    "            # If pred is an array, append it directly\n",
    "            data.append(pred)\n",
    "\n",
    "    # Create DataFrame from extracted data\n",
    "    df = pd.DataFrame(data)\n",
    "\n",
    "    return df"
   ]
  },
  {
   "cell_type": "markdown",
   "metadata": {},
   "source": [
    "### Step 1: Load Preprocessed Data, Train Model, and Load Pretrained Model"
   ]
  },
  {
   "cell_type": "code",
   "execution_count": 6,
   "metadata": {},
   "outputs": [
    {
     "name": "stderr",
     "output_type": "stream",
     "text": [
      "Found local copy...\n",
      "Found local copy...\n",
      "Found local copy...\n",
      "These perturbations are not in the GO graph and their perturbation can thus not be predicted\n",
      "['SRPR+ctrl' 'SLMO2+ctrl' 'TIMM23+ctrl' 'AMIGO3+ctrl' 'KCTD16+ctrl']\n",
      "Local copy of pyg dataset is detected. Loading...\n",
      "Done!\n",
      "Local copy of split is detected. Loading...\n",
      "Simulation split test composition:\n",
      "combo_seen0:0\n",
      "combo_seen1:0\n",
      "combo_seen2:0\n",
      "unseen_single:21\n",
      "Done!\n",
      "Creating dataloaders....\n",
      "Done!\n"
     ]
    },
    {
     "name": "stdout",
     "output_type": "stream",
     "text": [
      "here1\n"
     ]
    }
   ],
   "source": [
    "# get data\n",
    "pert_data = PertData('./data')\n",
    "# load dataset in paper: norman, adamson, dixit, replogle_rpe1_essential, replogle_k562_essential\n",
    "pert_data.load(data_name = 'adamson')\n",
    "# specify data split\n",
    "pert_data.prepare_split(split = 'simulation', seed = 1)\n",
    "# get dataloader with batch size\n",
    "pert_data.get_dataloader(batch_size = 32, test_batch_size = 128)\n",
    "\n",
    "# set up and train a model\n",
    "gears_model = GEARS(pert_data, device = 'cpu')\n",
    "#gears_model.model_initialize(hidden_size = 64)\n",
    "#gears_model.train(epochs = 30)\n",
    "\n",
    "# save/load model\n",
    "#gears_model.save_model('gears_adamson')\n",
    "gears_model.load_pretrained('gears_adamson')"
   ]
  },
  {
   "cell_type": "markdown",
   "metadata": {},
   "source": [
    "### Step 2: Get predicted values and true values on the full HVG, compare them with the blank, calculate the L2 norm, and plot the results"
   ]
  },
  {
   "cell_type": "code",
   "execution_count": 7,
   "metadata": {},
   "outputs": [
    {
     "name": "stdout",
     "output_type": "stream",
     "text": [
      "Genes to Predict:\n",
      "['CREB1', 'BHLHE40', 'DDIT3', 'HARS', 'DAD1', 'DDRGK1', 'SAMM50', 'CAD', 'GNPNAT1', 'TTI2', 'MANF', 'TARS', 'EIF2B2', 'ARHGAP22', 'SRP72', 'TMED10', 'COPB1', 'FECH', 'DHDDS', 'CARS', 'TMED2']\n"
     ]
    }
   ],
   "source": [
    "# Extract the name of gene A to be predicted from 'A+ctrl' in the test set\n",
    "genes_to_predict = []\n",
    "conditions = pert_data.set2conditions['test']\n",
    "for condition in conditions:\n",
    "    if '+ctrl' in condition or 'ctrl+' in condition:\n",
    "        parts = condition.split('+')\n",
    "        for part in parts:\n",
    "            if part != 'ctrl':\n",
    "                genes_to_predict.append(part)\n",
    "\n",
    "print(\"Genes to Predict:\")\n",
    "print(genes_to_predict)"
   ]
  },
  {
   "cell_type": "markdown",
   "metadata": {},
   "source": [
    "In the training set, the code filters out samples from the control group and calculates the mean value to determine the average gene expression of the control group, referred to as 'control mean', with a shape of (1, n_genes). For the test set, it filters samples containing perturbations and uses the model to predict gene expressions. It extracts gene names from conditions such as A+ctrl or ctrl+A and stores the predicted values. Finally, it retrieves the actual gene expressions from the test set."
   ]
  },
  {
   "cell_type": "code",
   "execution_count": 8,
   "metadata": {},
   "outputs": [],
   "source": [
    "train_conditions = pert_data.set2conditions['train']\n",
    "test_conditions = pert_data.set2conditions['test']\n",
    "train_samples = pert_data.adata[pert_data.adata.obs['condition'].isin(train_conditions)]\n",
    "control_mean = train_samples.X[train_samples.obs['condition'] == 'ctrl', :].toarray().mean(axis=0)\n",
    "\n",
    "Y_pred_test_gears = []\n",
    "\n",
    "test_samples = pert_data.adata[pert_data.adata.obs['condition'].isin(test_conditions)]\n",
    "test_samples = test_samples[test_samples.obs['condition'].str.contains('\\+ctrl|ctrl\\+')]\n",
    "\n",
    "perturbations = test_samples.obs['condition'].tolist()\n",
    "\n",
    "for gene in perturbations:   # predict every gene in test set\n",
    "    name = [part for part in gene.split('+') if part != 'ctrl'][0]  # extract the gene name A from A+ctrl or ctrl+A\n",
    "    all_predict = gears_model.predict([[name]])\n",
    "    Y_pred_test_gears.append(all_predict)\n",
    "\n",
    "Y_true_test = test_samples.X.toarray()"
   ]
  },
  {
   "cell_type": "markdown",
   "metadata": {},
   "source": [
    "The code converts the prediction array `Y_pred_test_gears` into a pandas DataFrame using the function `convert_predictions_to_dataframe` for easier analysis, assigns this DataFrame to `Y_pred_test_gears_new` for further use, and transforms the true values array `Y_true_test` into a DataFrame."
   ]
  },
  {
   "cell_type": "code",
   "execution_count": 9,
   "metadata": {},
   "outputs": [],
   "source": [
    "df_pred = convert_predictions_to_dataframe(Y_pred_test_gears)\n",
    "Y_pred_test_gears_new = df_pred\n",
    "Y_true_test = pd.DataFrame(Y_true_test)"
   ]
  },
  {
   "cell_type": "markdown",
   "metadata": {},
   "source": [
    "Compare with the blank(control mean) and plot on the full Highly Variable Genes (HVG)"
   ]
  },
  {
   "cell_type": "code",
   "execution_count": 10,
   "metadata": {},
   "outputs": [
    {
     "data": {
      "image/png": "[encoded data removed]",
      "text/plain": [
       "<Figure size 1200x600 with 2 Axes>"
      ]
     },
     "metadata": {},
     "output_type": "display_data"
    }
   ],
   "source": [
    "l2_norm_error_gears = cal_l2_error(Y_pred_test_gears_new, Y_true_test, perturbations, control_mean)\n",
    "\n",
    "Y_pred_test_blank = np.zeros_like(Y_true_test) + control_mean\n",
    "l2_norm_error_blank = cal_l2_error(Y_pred_test_blank, Y_true_test, perturbations, control_mean)\n",
    "\n",
    "l2_norm_errors_test = {}\n",
    "l2_norm_errors_test['gears'] = l2_norm_error_gears\n",
    "l2_norm_errors_test['blank'] = l2_norm_error_blank\n",
    "\n",
    "plot_outcome(l2_norm_errors_test)"
   ]
  },
  {
   "cell_type": "code",
   "execution_count": 11,
   "metadata": {},
   "outputs": [
    {
     "name": "stdout",
     "output_type": "stream",
     "text": [
      "{'gears': np.float32(5.3700924), 'blank': np.float32(6.8722744)}\n"
     ]
    }
   ],
   "source": [
    "print({method: l2_norm_errors_test[method].mean() for method in l2_norm_errors_test.keys()})"
   ]
  },
  {
   "cell_type": "markdown",
   "metadata": {},
   "source": [
    "### Step 3: Get predicted values and true values on the top_non_zero_de_20 genes, compare them with the blank, calculate the L2 norm, and plot the results"
   ]
  },
  {
   "cell_type": "code",
   "execution_count": 12,
   "metadata": {},
   "outputs": [
    {
     "data": {
      "text/html": [
       "<div>\n",
       "<style scoped>\n",
       "    .dataframe tbody tr th:only-of-type {\n",
       "        vertical-align: middle;\n",
       "    }\n",
       "\n",
       "    .dataframe tbody tr th {\n",
       "        vertical-align: top;\n",
       "    }\n",
       "\n",
       "    .dataframe thead th {\n",
       "        text-align: right;\n",
       "    }\n",
       "</style>\n",
       "<table border=\"1\" class=\"dataframe\">\n",
       "  <thead>\n",
       "    <tr style=\"text-align: right;\">\n",
       "      <th></th>\n",
       "      <th>condition</th>\n",
       "      <th>cell_type</th>\n",
       "      <th>dose_val</th>\n",
       "      <th>control</th>\n",
       "      <th>condition_name</th>\n",
       "    </tr>\n",
       "    <tr>\n",
       "      <th>cell_barcode</th>\n",
       "      <th></th>\n",
       "      <th></th>\n",
       "      <th></th>\n",
       "      <th></th>\n",
       "      <th></th>\n",
       "    </tr>\n",
       "  </thead>\n",
       "  <tbody>\n",
       "    <tr>\n",
       "      <th>AAACATACACCGAT-1</th>\n",
       "      <td>CREB1+ctrl</td>\n",
       "      <td>K562(?)</td>\n",
       "      <td>1+1</td>\n",
       "      <td>0</td>\n",
       "      <td>K562(?)_CREB1+ctrl_1+1</td>\n",
       "    </tr>\n",
       "    <tr>\n",
       "      <th>AAACATACAGAGAT-1</th>\n",
       "      <td>ctrl</td>\n",
       "      <td>K562(?)</td>\n",
       "      <td>1</td>\n",
       "      <td>1</td>\n",
       "      <td>K562(?)_ctrl_1</td>\n",
       "    </tr>\n",
       "    <tr>\n",
       "      <th>AAACATACCAGAAA-1</th>\n",
       "      <td>ctrl</td>\n",
       "      <td>K562(?)</td>\n",
       "      <td>1</td>\n",
       "      <td>1</td>\n",
       "      <td>K562(?)_ctrl_1</td>\n",
       "    </tr>\n",
       "    <tr>\n",
       "      <th>AAACATACGTTGAC-1</th>\n",
       "      <td>ctrl</td>\n",
       "      <td>K562(?)</td>\n",
       "      <td>1</td>\n",
       "      <td>1</td>\n",
       "      <td>K562(?)_ctrl_1</td>\n",
       "    </tr>\n",
       "    <tr>\n",
       "      <th>AAACATACTGTTCT-1</th>\n",
       "      <td>ctrl</td>\n",
       "      <td>K562(?)</td>\n",
       "      <td>1</td>\n",
       "      <td>1</td>\n",
       "      <td>K562(?)_ctrl_1</td>\n",
       "    </tr>\n",
       "    <tr>\n",
       "      <th>AAACCGTGCAGCTA-1</th>\n",
       "      <td>ZNF326+ctrl</td>\n",
       "      <td>K562(?)</td>\n",
       "      <td>1+1</td>\n",
       "      <td>0</td>\n",
       "      <td>K562(?)_ZNF326+ctrl_1+1</td>\n",
       "    </tr>\n",
       "    <tr>\n",
       "      <th>AAACCGTGCCTGAA-1</th>\n",
       "      <td>ctrl</td>\n",
       "      <td>K562(?)</td>\n",
       "      <td>1</td>\n",
       "      <td>1</td>\n",
       "      <td>K562(?)_ctrl_1</td>\n",
       "    </tr>\n",
       "    <tr>\n",
       "      <th>AAACCGTGCGGAGA-1</th>\n",
       "      <td>ctrl</td>\n",
       "      <td>K562(?)</td>\n",
       "      <td>1</td>\n",
       "      <td>1</td>\n",
       "      <td>K562(?)_ctrl_1</td>\n",
       "    </tr>\n",
       "    <tr>\n",
       "      <th>AAACCGTGGAACTC-1</th>\n",
       "      <td>CREB1+ctrl</td>\n",
       "      <td>K562(?)</td>\n",
       "      <td>1+1</td>\n",
       "      <td>0</td>\n",
       "      <td>K562(?)_CREB1+ctrl_1+1</td>\n",
       "    </tr>\n",
       "    <tr>\n",
       "      <th>AAACGCACCATGGT-1</th>\n",
       "      <td>ctrl</td>\n",
       "      <td>K562(?)</td>\n",
       "      <td>1</td>\n",
       "      <td>1</td>\n",
       "      <td>K562(?)_ctrl_1</td>\n",
       "    </tr>\n",
       "  </tbody>\n",
       "</table>\n",
       "</div>"
      ],
      "text/plain": [
       "                    condition cell_type dose_val  control  \\\n",
       "cell_barcode                                                \n",
       "AAACATACACCGAT-1   CREB1+ctrl   K562(?)      1+1        0   \n",
       "AAACATACAGAGAT-1         ctrl   K562(?)        1        1   \n",
       "AAACATACCAGAAA-1         ctrl   K562(?)        1        1   \n",
       "AAACATACGTTGAC-1         ctrl   K562(?)        1        1   \n",
       "AAACATACTGTTCT-1         ctrl   K562(?)        1        1   \n",
       "AAACCGTGCAGCTA-1  ZNF326+ctrl   K562(?)      1+1        0   \n",
       "AAACCGTGCCTGAA-1         ctrl   K562(?)        1        1   \n",
       "AAACCGTGCGGAGA-1         ctrl   K562(?)        1        1   \n",
       "AAACCGTGGAACTC-1   CREB1+ctrl   K562(?)      1+1        0   \n",
       "AAACGCACCATGGT-1         ctrl   K562(?)        1        1   \n",
       "\n",
       "                           condition_name  \n",
       "cell_barcode                               \n",
       "AAACATACACCGAT-1   K562(?)_CREB1+ctrl_1+1  \n",
       "AAACATACAGAGAT-1           K562(?)_ctrl_1  \n",
       "AAACATACCAGAAA-1           K562(?)_ctrl_1  \n",
       "AAACATACGTTGAC-1           K562(?)_ctrl_1  \n",
       "AAACATACTGTTCT-1           K562(?)_ctrl_1  \n",
       "AAACCGTGCAGCTA-1  K562(?)_ZNF326+ctrl_1+1  \n",
       "AAACCGTGCCTGAA-1           K562(?)_ctrl_1  \n",
       "AAACCGTGCGGAGA-1           K562(?)_ctrl_1  \n",
       "AAACCGTGGAACTC-1   K562(?)_CREB1+ctrl_1+1  \n",
       "AAACGCACCATGGT-1           K562(?)_ctrl_1  "
      ]
     },
     "execution_count": 12,
     "metadata": {},
     "output_type": "execute_result"
    }
   ],
   "source": [
    "pert_data.adata.obs.head(10)"
   ]
  },
  {
   "cell_type": "markdown",
   "metadata": {},
   "source": [
    "#### Oringinal Version(Can be skipped):"
   ]
  },
  {
   "cell_type": "markdown",
   "metadata": {},
   "source": [
    "This code iterates over each perturbation in the test set, extracts the corresponding gene name and the top 20 differentially expressed genes, converts these gene names to indices, and then uses the GEARS model to predict the expression levels of these genes. It collects the predicted expressions, the true expression values from the test samples, and calculates the average expression of these genes in the control group from the training samples, appending all these results to their respective lists for further analysis.\n",
    "\n",
    "**However, in each iteration of the for loop, the predicted values, true values, and control mean are calculated repeatedly, which leads to redundant computations and slow performance. Therefore, an improved version is provided below, which significantly enhances the execution speed. Tests confirm that the results of both versions are identical. This code is still retained for reference.**"
   ]
  },
  {
   "cell_type": "code",
   "execution_count": null,
   "metadata": {},
   "outputs": [],
   "source": [
    "# ## Build a mapping from gene_id to index\n",
    "# gene_id_to_idx = {gene_id: idx for idx, gene_id in enumerate(pert_data.gene_names.index)}\n",
    "#     ## gene_id_to_idx:\n",
    "#     ## {'ENSG00000228463': 0,\n",
    "#     ##  'ENSG00000272438': 1,\n",
    "#     ##  'ENSG00000230699': 2,\n",
    "#     ##  'ENSG00000223764': 3,\n",
    "#     ##  ...\n",
    "#     ##  'ENSG00000223791': 996,\n",
    "#     ##  'ENSG00000224074': 997,\n",
    "#     ##  'ENSG00000151090': 998,\n",
    "#     ##  'ENSG00000272554': 999,\n",
    "#     ##  ...}\n",
    "\n",
    "# Y_pred_test_gears_top20= []\n",
    "# Y_true_test_gears_top20 = []\n",
    "# control_mean_top20 = []\n",
    "# k = 0\n",
    "# for pert in perturbations:\n",
    "#     ## Extract gene names\n",
    "#     raw_condition_name = pert_data.adata.obs.loc[\n",
    "#         pert_data.adata.obs['condition'] == pert, 'condition_name'\n",
    "#     ].unique()[0] # like K562(?)_CREB1+ctrl_1+1\n",
    "\n",
    "#     part = raw_condition_name.split('_')[1] # like CREB1+ctrl\n",
    "#     gene_parts = part.split('+')\n",
    "#     condition_name = [part for part in gene_parts if 'ctrl' not in part][0] # gene name, like CREB1\n",
    "    \n",
    "#     ## Get the top 20 genes\n",
    "#     top_genes = pert_data.adata.uns['top_non_zero_de_20'][raw_condition_name]\n",
    "#         ## top genes looks like:\n",
    "#         ## array(['ENSG00000100347', 'ENSG00000112306', 'ENSG00000197756',\n",
    "#         ## 'ENSG00000145592', 'ENSG00000108107', 'ENSG00000135404',\n",
    "#         ## 'ENSG00000171858', 'ENSG00000233927', 'ENSG00000089248',\n",
    "#         ## 'ENSG00000166710', 'ENSG00000213741', 'ENSG00000177954',\n",
    "#         ## 'ENSG00000149516', 'ENSG00000105193', 'ENSG00000172270',\n",
    "#         ## 'ENSG00000134419', 'ENSG00000124172', 'ENSG00000124614',\n",
    "#         ## 'ENSG00000093010', 'ENSG00000132386'], dtype=object)\n",
    "\n",
    "#     ## Convert gene names to indices\n",
    "#     gene_indices = [gene_id_to_idx[gene_id] for gene_id in top_genes if gene_id in gene_id_to_idx]\n",
    "#         ## gene_indices looks like: [4979, 1929, 910, 1481, 4853, 3277, 4533, 4614, 3380, 3721, 3576, 355, 2987, 4742, 4553, 3917, 4528, 1822, 4878, 4063]\n",
    "    \n",
    "#     ## Extract the predicted top 20 gene expressions\n",
    "#     pred_expr = gears_model.predict([[condition_name]])\n",
    "#     pred_top_genes = pred_expr[condition_name][gene_indices]\n",
    "#         ## pred_top_genes looks like:\n",
    "#         ## array([0.57601863, 4.2403755 , 2.9866006 , 3.072369  , 3.6987996 ,\n",
    "#         ##        2.7795196 , 2.4965951 , 2.4036705 , 2.3769205 , 3.2209272 ,\n",
    "#         ##        1.7740251 , 2.8834126 , 2.4417973 , 3.8578947 , 2.9965417 ,\n",
    "#         ##        3.7931442 , 2.48152   , 2.5777972 , 2.4987907 , 0.82577777],\n",
    "#         ##       dtype=float32)\n",
    "#     Y_pred_test_gears_top20.append(pred_top_genes)\n",
    "\n",
    "#     ## Get true expression values\n",
    "#     true_expr = test_samples.X[k, gene_indices].toarray().flatten()\n",
    "#     Y_true_test_gears_top20.append(true_expr)\n",
    "\n",
    "#     ## Calculate the average expression of the top20 genes in the control group\n",
    "#     control_expr_top20 = train_samples.X[\n",
    "#         train_samples.obs['condition'] == 'ctrl', :\n",
    "#     ].toarray()[:, gene_indices]\n",
    "\n",
    "#     ctrl_mean_top20 = control_expr_top20.mean(axis=0)\n",
    "#     control_mean_top20.append(ctrl_mean_top20)\n",
    "#     k+=1"
   ]
  },
  {
   "cell_type": "markdown",
   "metadata": {},
   "source": [
    "#### Advanced Version:"
   ]
  },
  {
   "cell_type": "markdown",
   "metadata": {},
   "source": [
    "##### Part 1\n",
    "This code precomputes essential information for each unique perturbation to optimize subsequent computations. It builds a mapping from gene IDs to indices, initializes result lists and caching dictionaries, and iterates over all unique perturbations. For each perturbation, it extracts the gene name, retrieves the top 20 differentially expressed genes, converts these gene names to their corresponding indices, computes the mean expression of these genes in the control group, stores all this information in a dictionary (`pert_info`), and caches the prediction results from the GEARS model to avoid redundant computations."
   ]
  },
  {
   "cell_type": "code",
   "execution_count": 13,
   "metadata": {},
   "outputs": [],
   "source": [
    "# Build a mapping from gene_id to index\n",
    "gene_id_to_idx = {gene_id: idx for idx, gene_id in enumerate(pert_data.gene_names.index)}\n",
    "    ## gene_id_to_idx:\n",
    "    ## {'ENSG00000228463': 0,\n",
    "    ##  'ENSG00000272438': 1,\n",
    "    ##  'ENSG00000230699': 2,\n",
    "    ##  'ENSG00000223764': 3,\n",
    "    ##  ...\n",
    "    ##  'ENSG00000223791': 996,\n",
    "    ##  'ENSG00000224074': 997,\n",
    "    ##  'ENSG00000151090': 998,\n",
    "    ##  'ENSG00000272554': 999,\n",
    "    ##  ...}\n",
    "\n",
    "# Initialize result lists\n",
    "Y_pred_test_gears_top20 = []\n",
    "Y_true_test_gears_top20 = []\n",
    "control_mean_top20 = []\n",
    "\n",
    "# Initialize mapping dictionary and prediction result cache\n",
    "pert_info = {}\n",
    "condition_name_to_pred = {}\n",
    "\n",
    "# Get all unique perturbation conditions\n",
    "unique_perts = set(perturbations)\n",
    "\n",
    "# Precompute necessary information and prediction results\n",
    "for pert in unique_perts:\n",
    "    # Get the corresponding condition names\n",
    "    raw_condition_name = pert_data.adata.obs.loc[\n",
    "        pert_data.adata.obs['condition'] == pert, 'condition_name'\n",
    "    ].unique()[0]  # like K562(?)_CREB1+ctrl_1+1\n",
    "    \n",
    "    # Extract gene name\n",
    "    part = raw_condition_name.split('_')[1]\n",
    "    gene_parts = part.split('+')\n",
    "    condition_name = [part for part in gene_parts if 'ctrl' not in part][0]  # gene name, like CREB1\n",
    "    \n",
    "    # Get the top 20 genes\n",
    "    top_genes = pert_data.adata.uns['top_non_zero_de_20'][raw_condition_name]\n",
    "        ## top genes looks like:\n",
    "        ## array(['ENSG00000100347', 'ENSG00000112306', 'ENSG00000197756',\n",
    "        ## 'ENSG00000145592', 'ENSG00000108107', 'ENSG00000135404',\n",
    "        ## 'ENSG00000171858', 'ENSG00000233927', 'ENSG00000089248',\n",
    "        ## 'ENSG00000166710', 'ENSG00000213741', 'ENSG00000177954',\n",
    "        ## 'ENSG00000149516', 'ENSG00000105193', 'ENSG00000172270',\n",
    "        ## 'ENSG00000134419', 'ENSG00000124172', 'ENSG00000124614',\n",
    "        ## 'ENSG00000093010', 'ENSG00000132386'], dtype=object)\n",
    "    \n",
    "    # Convert gene names to indices\n",
    "    gene_indices = [gene_id_to_idx[gene_id] for gene_id in top_genes if gene_id in gene_id_to_idx]\n",
    "        ## gene_indices looks like: [4979, 1929, 910, 1481, 4853, 3277, 4533, 4614, 3380, 3721, 3576, 355, 2987, 4742, 4553, 3917, 4528, 1822, 4878, 4063]\n",
    "    \n",
    "    # Compute the mean expression of top20 genes in the control group\n",
    "    control_expr_top20 = train_samples.X[\n",
    "        train_samples.obs['condition'] == 'ctrl', :\n",
    "    ].toarray()[:, gene_indices]\n",
    "    ctrl_mean_top20_sample = control_expr_top20.mean(axis=0)\n",
    "    \n",
    "    # Store information in the dictionary\n",
    "    pert_info[pert] = {\n",
    "        'condition_name': condition_name,\n",
    "        'gene_indices': gene_indices,\n",
    "        'ctrl_mean_top20': ctrl_mean_top20_sample\n",
    "    }\n",
    "    \n",
    "    # Cache prediction results\n",
    "    if condition_name not in condition_name_to_pred:\n",
    "        pred_expr_full = gears_model.predict([[condition_name]])\n",
    "        pred_expr = pred_expr_full[condition_name]\n",
    "        condition_name_to_pred[condition_name] = pred_expr\n"
   ]
  },
  {
   "cell_type": "markdown",
   "metadata": {},
   "source": [
    "##### Part 2\n",
    "In this part, the code iterates over the test samples and their corresponding perturbation conditions. For each sample, it retrieves the precomputed information from the dictionaries, appends the control group's mean expression to the list, obtains the cached prediction result for the condition, extracts the predicted expressions for the top 20 genes, and adds them to the result list. It also retrieves the true expression values of these genes from the test samples and appends them to the corresponding list for further analysis."
   ]
  },
  {
   "cell_type": "code",
   "execution_count": 14,
   "metadata": {},
   "outputs": [],
   "source": [
    "# Iterate over test samples and their corresponding perturbation conditions\n",
    "for idx, pert in enumerate(perturbations):\n",
    "    # Retrieve precomputed information\n",
    "    info = pert_info[pert]\n",
    "    condition_name = info['condition_name']\n",
    "    gene_indices = info['gene_indices']\n",
    "    ctrl_mean_top20_sample = info['ctrl_mean_top20']\n",
    "    \n",
    "    # Add to the control_mean_top20 list\n",
    "    control_mean_top20.append(ctrl_mean_top20_sample)\n",
    "    \n",
    "    # Get cached prediction result\n",
    "    pred_expr = condition_name_to_pred[condition_name]\n",
    "    \n",
    "    # Extract predicted expression of the top 20 genes\n",
    "    pred_top_genes = pred_expr[gene_indices]\n",
    "    Y_pred_test_gears_top20.append(pred_top_genes)\n",
    "    \n",
    "    # Get true expression values\n",
    "    true_expr = test_samples.X[idx, gene_indices].toarray().flatten()\n",
    "    Y_true_test_gears_top20.append(true_expr)"
   ]
  },
  {
   "cell_type": "markdown",
   "metadata": {},
   "source": [
    "**Why This Version Runs Much Faster:**\n",
    "\n",
    "This version runs significantly faster because it eliminates redundant computations by precomputing and caching data. By calculating gene indices, control mean expressions, and model predictions upfront for each unique perturbation, it avoids recalculating these values multiple times within the loop over test samples. This reduces computational overhead and improves efficiency, leading to a substantial increase in execution speed compared to the previous version."
   ]
  },
  {
   "cell_type": "code",
   "execution_count": 15,
   "metadata": {},
   "outputs": [],
   "source": [
    "Y_pred_test_gears_top20_new = pd.DataFrame(Y_pred_test_gears_top20)\n",
    "Y_true_test_gears_top20_new = pd.DataFrame(Y_true_test_gears_top20)\n",
    "control_mean_top20_new = pd.DataFrame(control_mean_top20)"
   ]
  },
  {
   "cell_type": "code",
   "execution_count": 19,
   "metadata": {},
   "outputs": [
    {
     "data": {
      "image/png": "[encoded data removed]",
      "text/plain": [
       "<Figure size 1200x600 with 2 Axes>"
      ]
     },
     "metadata": {},
     "output_type": "display_data"
    }
   ],
   "source": [
    "l2_norm_error_blank = cal_l2_error_top20(control_mean_top20_new, Y_true_test_gears_top20_new, perturbations, control_mean_top20_new)\n",
    "l2_norm_error_gears = cal_l2_error_top20(Y_pred_test_gears_top20_new, Y_true_test_gears_top20_new, perturbations, control_mean_top20_new)\n",
    "\n",
    "l2_norm_errors_test = {}\n",
    "l2_norm_errors_test['gears_top20'] = l2_norm_error_gears\n",
    "l2_norm_errors_test['blank'] = l2_norm_error_blank\n",
    "\n",
    "plot_outcome(l2_norm_errors_test)"
   ]
  },
  {
   "cell_type": "code",
   "execution_count": 20,
   "metadata": {},
   "outputs": [
    {
     "name": "stdout",
     "output_type": "stream",
     "text": [
      "{'gears_top20': np.float32(1.859472), 'blank': np.float32(2.7145858)}\n"
     ]
    }
   ],
   "source": [
    "print({method: l2_norm_errors_test[method].mean() for method in l2_norm_errors_test.keys()})"
   ]
  },
  {
   "cell_type": "markdown",
   "metadata": {},
   "source": [
    "$$\n",
    "\\text{Improvement} = \\left( \\frac{2.7145858 - 1.859472}{2.7145858} \\right) \\times 100\\% = \\text{31.50\\%}\n",
    "$$\n"
   ]
  },
  {
   "cell_type": "code",
   "execution_count": 10,
   "metadata": {},
   "outputs": [],
   "source": [
    "model = gears_model.model\n",
    "gene_emb_weight = model.gene_emb.weight.data.clone().cpu().numpy()\n",
    "df_gene_emb = pd.DataFrame(gene_emb_weight)\n",
    "df_gene_emb = df_gene_emb.T\n",
    "df_gene_emb.columns = pert_data.adata.var['gene_name']\n",
    "df_gene_emb.to_csv(\"adamson_gene_emb.csv\", index=True)"
   ]
  },
  {
   "cell_type": "code",
   "execution_count": 18,
   "metadata": {},
   "outputs": [],
   "source": [
    "pert_emb_weight = model.pert_emb.weight.data.clone().cpu().numpy()\n",
    "df_pert_emb = pd.DataFrame(pert_emb_weight)\n",
    "df_pert_emb = df_pert_emb.T\n",
    "perturbations_list = gears_model.pert_list\n",
    "df_pert_emb.columns = perturbations_list\n",
    "df_pert_emb.to_csv(\"adamson_pert_emb.csv\", index=True)"
   ]
  }
 ],
 "metadata": {
  "kernelspec": {
   "display_name": "gears_cpu",
   "language": "python",
   "name": "python3"
  },
  "language_info": {
   "codemirror_mode": {
    "name": "ipython",
    "version": 3
   },
   "file_extension": ".py",
   "mimetype": "text/x-python",
   "name": "python",
   "nbconvert_exporter": "python",
   "pygments_lexer": "ipython3",
   "version": "3.12.8"
  }
 },
 "nbformat": 4,
 "nbformat_minor": 2
}
